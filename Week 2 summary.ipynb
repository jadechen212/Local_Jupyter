{
 "cells": [
  {
   "cell_type": "markdown",
   "id": "29f8d084",
   "metadata": {},
   "source": [
    "# Week 2"
   ]
  },
  {
   "cell_type": "markdown",
   "id": "a3ca4aed",
   "metadata": {},
   "source": [
    "Following up the first week, after successfully running the snakemake script, we inspect on the logs file"
   ]
  },
  {
   "cell_type": "markdown",
   "id": "19053854",
   "metadata": {},
   "source": [
    "## logs file inspection"
   ]
  },
  {
   "cell_type": "markdown",
   "id": "3abd5c40",
   "metadata": {},
   "source": [
    "Each rule can specify a log file where information about the execution is written to and it is important to check the logs to know the details of executions."
   ]
  },
  {
   "cell_type": "code",
   "execution_count": null,
   "id": "6836b227",
   "metadata": {},
   "outputs": [],
   "source": [
    "cd logs # in the directory of snakie\n",
    "ls"
   ]
  },
  {
   "cell_type": "code",
   "execution_count": null,
   "id": "01f9e65c",
   "metadata": {},
   "outputs": [],
   "source": [
    "concat_twenties      index_stats_twenties_vcf  select_column\n",
    "index_stats_BSW_vcf  select_chromosomes        select_REF_C   ## the six rules in snakefile"
   ]
  },
  {
   "cell_type": "markdown",
   "id": "1ed62da4",
   "metadata": {},
   "source": [
    "Then we check any one of the directory and there are two files appear in each directory"
   ]
  },
  {
   "cell_type": "code",
   "execution_count": null,
   "id": "50234935",
   "metadata": {},
   "outputs": [],
   "source": [
    "cd concat_twenties\n",
    "unique_202207251422.err  unique_202207251422.out"
   ]
  },
  {
   "cell_type": "markdown",
   "id": "457d36a2",
   "metadata": {},
   "source": [
    "As no errors occur when running, the error file shows"
   ]
  },
  {
   "cell_type": "code",
   "execution_count": null,
   "id": "4be39ec4",
   "metadata": {},
   "outputs": [],
   "source": [
    "[Mon Jul 25 14:26:56 2022]\n",
    "Finished job 0.\n",
    "1 of 1 steps (100%) done"
   ]
  },
  {
   "cell_type": "markdown",
   "id": "21f58950",
   "metadata": {},
   "source": [
    "In the .out file"
   ]
  },
  {
   "cell_type": "code",
   "execution_count": null,
   "id": "aba82e92",
   "metadata": {},
   "outputs": [],
   "source": [
    "Successfully completed.\n",
    "\n",
    "Resource usage summary:\n",
    "\n",
    "    CPU time :                                   224.72 sec.\n",
    "    Max Memory :                                 1000 MB\n",
    "    Average Memory :                             790.89 MB\n",
    "    Total Requested Memory :                     1000.00 MB\n",
    "    Delta Memory :                               0.00 MB\n",
    "    Max Swap :                                   -\n",
    "    Max Processes :                              6\n",
    "    Max Threads :                                8\n",
    "    Run time :                                   245 sec.\n",
    "    Turnaround time :                            263 sec.\n",
    "\n",
    "The output (if any) follows:\n"
   ]
  },
  {
   "cell_type": "markdown",
   "id": "4e373cc8",
   "metadata": {},
   "source": [
    "## Check the stats data"
   ]
  },
  {
   "cell_type": "markdown",
   "id": "50952ede",
   "metadata": {},
   "source": [
    "After we checked the logs file, we checked the stats file and look for specific parts of the file"
   ]
  },
  {
   "cell_type": "markdown",
   "id": "57c91aa5",
   "metadata": {},
   "source": [
    "The example stats file of chromosome 20 (20.stats)"
   ]
  },
  {
   "cell_type": "code",
   "execution_count": null,
   "id": "e8acf558",
   "metadata": {},
   "outputs": [],
   "source": [
    "# This file was produced by bcftools stats (1.3.1+htslib-1.3.1) and can be plotted using plot-vcfstats.\n",
    "# The command line was:\tbcftools stats  /cluster/home/jiaychen/VCF/20.vcf.gz\n",
    "#\n",
    "# Definition of sets:\n",
    "# ID\t[2]id\t[3]tab-separated file names\n",
    "ID\t0\t/cluster/home/jiaychen/VCF/20.vcf.gz\n",
    "# SN, Summary numbers:\n",
    "# SN\t[2]id\t[3]key\t[4]value\n",
    "SN\t0\tnumber of samples:\t24\n",
    "SN\t0\tnumber of records:\t672041\n",
    "SN\t0\tnumber of no-ALTs:\t0\n",
    "SN\t0\tnumber of SNPs:\t672041\n",
    "SN\t0\tnumber of MNPs:\t0\n",
    "SN\t0\tnumber of indels:\t0\n",
    "SN\t0\tnumber of others:\t0\n",
    "SN\t0\tnumber of multiallelic sites:\t0\n",
    "SN\t0\tnumber of multiallelic SNP sites:\t0\n",
    "# TSTV, transitions/transversions:\n",
    "# TSTV\t[2]id\t[3]ts\t[4]tv\t[5]ts/tv\t[6]ts (1st ALT)\t[7]tv (1st ALT)\t[8]ts/tv (1st ALT)\n",
    "TSTV\t0\t469703\t202338\t2.32\t469703\t202338\t2.32\n",
    "# SiS, Singleton stats:\n",
    "# SiS\t[2]id\t[3]allele count\t[4]number of SNPs\t[5]number of transitions\t[6]number of transversions\t[7]number of indels\t[8]repeat-consistent\t[9]repeat-inconsistent\t[10]not applicable\n",
    "SiS\t0\t1\t672041\t469703\t202338\t0\t0\t0\t0\n",
    "# AF, Stats by non-reference allele frequency:\n",
    "# AF\t[2]id\t[3]allele frequency\t[4]number of SNPs\t[5]number of transitions\t[6]number of transversions\t[7]number of indels\t[8]repeat-consistent\t[9]repeat-inconsistent\t[10]not applicable\n",
    "AF\t0\t0.000000\t672041\t469703\t202338\t0\t0\t0\t0\n",
    "# QUAL, Stats by quality:\n",
    "# QUAL\t[2]id\t[3]Quality\t[4]number of SNPs\t[5]number of transitions (1st ALT)\t[6]number of transversions (1st ALT)\t[7]number of indels\n",
    "QUAL\t0\t998\t672041\t469703\t202338\t0\n",
    "# IDD, InDel distribution:\n",
    "# IDD\t[2]id\t[3]length (deletions negative)\t[4]count\n",
    "# ST, Substitution types:\n",
    "# ST\t[2]id\t[3]type\t[4]count\n",
    "ST\t0\tA>C\t22976\n",
    "ST\t0\tA>G\t93936\n",
    "ST\t0\tA>T\t20292\n",
    "ST\t0\tC>A\t34547\n",
    "ST\t0\tC>G\t24151\n",
    "ST\t0\tC>T\t142149\n",
    "ST\t0\tG>A\t141789\n",
    "ST\t0\tG>C\t24021\n",
    "ST\t0\tG>T\t33561\n",
    "ST\t0\tT>A\t20521\n",
    "ST\t0\tT>C\t91829\n",
    "ST\t0\tT>G\t22269\n",
    "# DP, Depth distribution\n",
    "# DP\t[2]id\t[3]bin\t[4]number of genotypes\t[5]fraction of genotypes (%)\t[6]number of sites\t[7]fraction of sites (%)"
   ]
  },
  {
   "cell_type": "markdown",
   "id": "3de38fbd",
   "metadata": {},
   "source": [
    "The example of the stat data from BSWCHEF120127240430_autosomes_beagle.stats"
   ]
  },
  {
   "cell_type": "code",
   "execution_count": null,
   "id": "bfcf0d28",
   "metadata": {},
   "outputs": [],
   "source": [
    "# This file was produced by bcftools stats (1.3.1+htslib-1.3.1) and can be plotted using plot-vcfstats.\n",
    "# The command line was:\tbcftools stats  /cluster/home/jiaychen/VCF/BSWCHEF120127240430_autosomes_beagle.vcf.gz\n",
    "#\n",
    "# Definition of sets:\n",
    "# ID\t[2]id\t[3]tab-separated file names\n",
    "ID\t0\t/cluster/home/jiaychen/VCF/BSWCHEF120127240430_autosomes_beagle.vcf.gz\n",
    "# SN, Summary numbers:\n",
    "# SN\t[2]id\t[3]key\t[4]value\n",
    "SN\t0\tnumber of samples:\t1\n",
    "SN\t0\tnumber of records:\t23142729\n",
    "SN\t0\tnumber of no-ALTs:\t0\n",
    "SN\t0\tnumber of SNPs:\t23142729\n",
    "SN\t0\tnumber of MNPs:\t0\n",
    "SN\t0\tnumber of indels:\t0\n",
    "SN\t0\tnumber of others:\t0\n",
    "SN\t0\tnumber of multiallelic sites:\t0\n",
    "SN\t0\tnumber of multiallelic SNP sites:\t0\n",
    "# TSTV, transitions/transversions:\n",
    "# TSTV\t[2]id\t[3]ts\t[4]tv\t[5]ts/tv\t[6]ts (1st ALT)\t[7]tv (1st ALT)\t[8]ts/tv (1st ALT)\n",
    "TSTV\t0\t16228133\t6914578\t2.35\t16228133\t6914578\t2.35\n",
    "# SiS, Singleton stats:\n",
    "# SiS\t[2]id\t[3]allele count\t[4]number of SNPs\t[5]number of transitions\t[6]number of transversions\t[7]number of indels\t[8]repeat-consistent\t[9]repeat-inconsistent\t[10]not applicable\n",
    "SiS\t0\t1\t3299421\t2284500\t1014921\t0\t0\t0\t0\n",
    "# AF, Stats by non-reference allele frequency:\n",
    "# AF\t[2]id\t[3]allele frequency\t[4]number of SNPs\t[5]number of transitions\t[6]number of transversions\t[7]number of indels\t[8]repeat-consistent\t[9]repeat-inconsistent\t[10]not applicable\n",
    "AF\t0\t0.000000\t20346346\t14288629\t6057717\t0\t0\t0\t0\n",
    "AF\t0\t99.000000\t2796365\t1939504\t856861\t0\t0\t0\t0\n",
    "# QUAL, Stats by quality:\n",
    "# QUAL\t[2]id\t[3]Quality\t[4]number of SNPs\t[5]number of transitions (1st ALT)\t[6]number of transversions (1st ALT)\t[7]number of indels\n",
    "QUAL\t0\t998\t23142729\t16228133\t6914578\t0\n",
    "# IDD, InDel distribution:\n",
    "# IDD\t[2]id\t[3]length (deletions negative)\t[4]count\n",
    "# ST, Substitution types:\n",
    "# ST\t[2]id\t[3]type\t[4]count\n",
    "ST\t0\tA>C\t773578\n",
    "ST\t0\tA>G\t3188432\n",
    "ST\t0\tA>T\t674413\n",
    "ST\t0\tC>A\t1185784\n",
    "ST\t0\tC>G\t838971\n",
    "ST\t0\tC>T\t4970967\n",
    "ST\t0\tG>A\t4923542\n",
    "ST\t0\tG>C\t830913\n",
    "ST\t0\tG>T\t1146800\n",
    "ST\t0\tT>A\t691162\n",
    "ST\t0\tT>C\t3145192\n",
    "ST\t0\tT>G\t772957\n",
    "# DP, Depth distribution\n",
    "# DP\t[2]id\t[3]bin\t[4]number of genotypes\t[5]fraction of genotypes (%)\t[6]number of sites\t[7]fraction of sites (%)"
   ]
  },
  {
   "cell_type": "markdown",
   "id": "acd2c7d9",
   "metadata": {},
   "source": [
    "The example of the stat file from the concat chromosome 20-29 "
   ]
  },
  {
   "cell_type": "code",
   "execution_count": null,
   "id": "193c4a19",
   "metadata": {},
   "outputs": [],
   "source": [
    "# This file was produced by bcftools stats (1.3.1+htslib-1.3.1) and can be plotted using plot-vcfstats.\n",
    "# The command line was:\tbcftools stats  /cluster/home/jiaychen/VCF/snakie/Twenties_autosomes.vcf.gz\n",
    "#\n",
    "# Definition of sets:\n",
    "# ID\t[2]id\t[3]tab-separated file names\n",
    "ID\t0\t/cluster/home/jiaychen/VCF/snakie/Twenties_autosomes.vcf.gz\n",
    "# SN, Summary numbers:\n",
    "# SN\t[2]id\t[3]key\t[4]value\n",
    "SN\t0\tnumber of samples:\t24\n",
    "SN\t0\tnumber of records:\t5423471\n",
    "SN\t0\tnumber of no-ALTs:\t0\n",
    "SN\t0\tnumber of SNPs:\t5423471\n",
    "SN\t0\tnumber of MNPs:\t0\n",
    "SN\t0\tnumber of indels:\t0\n",
    "SN\t0\tnumber of others:\t0\n",
    "SN\t0\tnumber of multiallelic sites:\t0\n",
    "SN\t0\tnumber of multiallelic SNP sites:\t0\n",
    "# TSTV, transitions/transversions:\n",
    "# TSTV\t[2]id\t[3]ts\t[4]tv\t[5]ts/tv\t[6]ts (1st ALT)\t[7]tv (1st ALT)\t[8]ts/tv (1st ALT)\n",
    "TSTV\t0\t3826259\t1597208\t2.40\t3826259\t1597208\t2.40\n",
    "# SiS, Singleton stats:\n",
    "# SiS\t[2]id\t[3]allele count\t[4]number of SNPs\t[5]number of transitions\t[6]number of transversions\t[7]number of indels\t[8]repeat-consistent\t[9]repeat-inconsistent\t[10]not applicable\n",
    "SiS\t0\t1\t5423467\t3826259\t1597208\t0\t0\t0\t0\n",
    "# AF, Stats by non-reference allele frequency:\n",
    "# AF\t[2]id\t[3]allele frequency\t[4]number of SNPs\t[5]number of transitions\t[6]number of transversions\t[7]number of indels\t[8]repeat-consistent\t[9]repeat-inconsistent\t[10]not applicable\n",
    "AF\t0\t0.000000\t5423467\t3826259\t1597208\t0\t0\t0\t0\n",
    "# QUAL, Stats by quality:\n",
    "# QUAL\t[2]id\t[3]Quality\t[4]number of SNPs\t[5]number of transitions (1st ALT)\t[6]number of transversions (1st ALT)\t[7]number of indels\n",
    "QUAL\t0\t998\t5423471\t3826259\t1597208\t0\n",
    "# IDD, InDel distribution:\n",
    "# IDD\t[2]id\t[3]length (deletions negative)\t[4]count\n",
    "# ST, Substitution types:\n",
    "# ST\t[2]id\t[3]type\t[4]count\n",
    "ST\t0\tA>C\t177870\n",
    "ST\t0\tA>G\t747288\n",
    "ST\t0\tA>T\t152126\n",
    "ST\t0\tC>A\t272852\n",
    "ST\t0\tC>G\t199744\n",
    "ST\t0\tC>T\t1178384\n",
    "ST\t0\tG>A\t1167955\n",
    "ST\t0\tG>C\t197882\n",
    "ST\t0\tG>T\t264016\n",
    "ST\t0\tT>A\t155207\n",
    "ST\t0\tT>C\t732632\n",
    "ST\t0\tT>G\t177511\n",
    "# DP, Depth distribution\n",
    "# DP\t[2]id\t[3]bin\t[4]number of genotypes\t[5]fraction of genotypes (%)\t[6]number of sites\t[7]fraction of sites (%)"
   ]
  },
  {
   "cell_type": "markdown",
   "id": "8f7deeff",
   "metadata": {},
   "source": [
    "The stats data for the specfic position RM1900 for the concat file of Chr 20-29"
   ]
  },
  {
   "cell_type": "code",
   "execution_count": null,
   "id": "1fd8f8ea",
   "metadata": {},
   "outputs": [],
   "source": [
    "# This file was produced by bcftools stats (1.3.1+htslib-1.3.1) and can be plotted using plot-vcfstats.\n",
    "# The command line was:\tbcftools stats  /cluster/home/jiaychen/VCF/snakie/RM1900.vcf.gz\n",
    "#\n",
    "# Definition of sets:\n",
    "# ID\t[2]id\t[3]tab-separated file names\n",
    "ID\t0\t/cluster/home/jiaychen/VCF/snakie/RM1900.vcf.gz\n",
    "# SN, Summary numbers:\n",
    "# SN\t[2]id\t[3]key\t[4]value\n",
    "SN\t0\tnumber of samples:\t1\n",
    "SN\t0\tnumber of records:\t5423471\n",
    "SN\t0\tnumber of no-ALTs:\t0\n",
    "SN\t0\tnumber of SNPs:\t5423471\n",
    "SN\t0\tnumber of MNPs:\t0\n",
    "SN\t0\tnumber of indels:\t0\n",
    "SN\t0\tnumber of others:\t0\n",
    "SN\t0\tnumber of multiallelic sites:\t0\n",
    "SN\t0\tnumber of multiallelic SNP sites:\t0\n",
    "# TSTV, transitions/transversions:\n",
    "# TSTV\t[2]id\t[3]ts\t[4]tv\t[5]ts/tv\t[6]ts (1st ALT)\t[7]tv (1st ALT)[8]ts/tv (1st ALT)\n",
    "TSTV\t0\t3826259\t1597208\t2.40\t3826259\t1597208\t2.40\n",
    "# SiS, Singleton stats:\n",
    "# SiS\t[2]id\t[3]allele count\t[4]number of SNPs\t[5]number of transitions[6]number of transversions\t[7]number of indels\t[8]repeat-consistent\t[9]repeat-inconsistent\t[10]not applicable\n",
    "SiS\t0\t1\t617401\t430054\t187347\t0\t0\t0\t0\n",
    "# AF, Stats by non-reference allele frequency:\n",
    "# AF\t[2]id\t[3]allele frequency\t[4]number of SNPs\t[5]number of transitions\t[6]number of transversions\t[7]number of indels\t[8]repeat-consistent\t[9]repeat-inconsistent\t[10]not applicable\n",
    "AF\t0\t0.000000\t4740531\t3347826\t1392705\t0\t0\t0\t0\n",
    "AF\t0\t99.000000\t682936\t478433\t204503\t0\t0\t0\t0\n",
    "# QUAL, Stats by quality:\n",
    "# QUAL\t[2]id\t[3]Quality\t[4]number of SNPs\t[5]number of transitions (1st ALT)\t[6]number of transversions (1st ALT)\t[7]number of indels\n",
    "QUAL\t0\t998\t5423471\t3826259\t1597208\t0\n",
    "# IDD, InDel distribution:\n",
    "# IDD\t[2]id\t[3]length (deletions negative)\t[4]count\n",
    "# ST, Substitution types:\n",
    "# ST\t[2]id\t[3]type\t[4]count\n",
    "ST\t0\tA>C\t177870\n",
    "ST\t0\tA>G\t747288\n",
    "ST\t0\tA>T\t152126\n",
    "ST\t0\tC>A\t272852\n",
    "ST\t0\tC>G\t199744\n",
    "ST\t0\tC>T\t1178384\n",
    "ST\t0\tG>A\t1167955\n",
    "ST\t0\tG>C\t197882\n",
    "ST\t0\tG>T\t264016\n",
    "ST\t0\tT>A\t155207\n",
    "ST\t0\tT>C\t732632\n",
    "ST\t0\tT>G\t177511\n",
    "# DP, Depth distribution\n",
    "# DP\t[2]id\t[3]bin\t[4]number of genotypes\t[5]fraction of genotypes (%)\t[6]number of sites\t[7]fraction of sites (%)"
   ]
  },
  {
   "cell_type": "markdown",
   "id": "51d1a95b",
   "metadata": {},
   "source": [
    "The stats for only chromosome 5 in the individual of BSWCHEF120127240430_autosomes_beagle"
   ]
  },
  {
   "cell_type": "code",
   "execution_count": null,
   "id": "428a4d0a",
   "metadata": {},
   "outputs": [],
   "source": [
    "# This file was produced by bcftools stats (1.3.1+htslib-1.3.1) and can be plotted using plot-vcfstats.\n",
    "# The command line was:\tbcftools stats  /cluster/home/jiaychen/VCF/snakie/chromosome_5.vcf.gz\n",
    "#\n",
    "# Definition of sets:\n",
    "# ID\t[2]id\t[3]tab-separated file names\n",
    "ID\t0\t/cluster/home/jiaychen/VCF/snakie/chromosome_5.vcf.gz\n",
    "# SN, Summary numbers:\n",
    "# SN\t[2]id\t[3]key\t[4]value\n",
    "SN\t0\tnumber of samples:\t1\n",
    "SN\t0\tnumber of records:\t1120625\n",
    "SN\t0\tnumber of no-ALTs:\t0\n",
    "SN\t0\tnumber of SNPs:\t1120625\n",
    "SN\t0\tnumber of MNPs:\t0\n",
    "SN\t0\tnumber of indels:\t0\n",
    "SN\t0\tnumber of others:\t0\n",
    "SN\t0\tnumber of multiallelic sites:\t0\n",
    "SN\t0\tnumber of multiallelic SNP sites:\t0\n",
    "# TSTV, transitions/transversions:\n",
    "# TSTV\t[2]id\t[3]ts\t[4]tv\t[5]ts/tv\t[6]ts (1st ALT)\t[7]tv (1st ALT)[8]ts/tv (1st ALT)\n",
    "TSTV\t0\t783571\t337052\t2.32\t783571\t337052\t2.32\n",
    "# SiS, Singleton stats:\n",
    "# SiS\t[2]id\t[3]allele count\t[4]number of SNPs\t[5]number of transitions[6]number of transversions\t[7]number of indels\t[8]repeat-consistent\t[9]repeat-inconsistent\t[10]not applicable\n",
    "SiS\t0\t1\t157731\t108705\t49026\t0\t0\t0\t0\n",
    "# AF, Stats by non-reference allele frequency:\n",
    "# AF\t[2]id\t[3]allele frequency\t[4]number of SNPs\t[5]number of transitions\t[6]number of transversions\t[7]number of indels\t[8]repeat-consistent\t[9]repeat-inconsistent\t[10]not applicable\n",
    "AF\t0\t0.000000\t986954\t691265\t295689\t0\t0\t0\t0\n",
    "AF\t0\t99.000000\t133669\t92306\t41363\t0\t0\t0\t0\n",
    "# QUAL, Stats by quality:\n",
    "# QUAL\t[2]id\t[3]Quality\t[4]number of SNPs\t[5]number of transitions (1st ALT)\t[6]number of transversions (1st ALT)\t[7]number of indels\n",
    "QUAL\t0\t998\t1120625\t783571\t337052\t0\n",
    "# IDD, InDel distribution:\n",
    "# IDD\t[2]id\t[3]length (deletions negative)\t[4]count\n",
    "# ST, Substitution types:\n",
    "# ST\t[2]id\t[3]type\t[4]count\n",
    "ST\t0\tA>C\t37905\n",
    "ST\t0\tA>G\t155264\n",
    "ST\t0\tA>T\t33466\n",
    "ST\t0\tC>A\t57486\n",
    "ST\t0\tC>G\t40457\n",
    "ST\t0\tC>T\t238707\n",
    "ST\t0\tG>A\t237025\n",
    "ST\t0\tG>C\t39930\n",
    "ST\t0\tG>T\t55563\n",
    "ST\t0\tT>A\t34331\n",
    "ST\t0\tT>C\t152575\n",
    "ST\t0\tT>G\t37914\n",
    "# DP, Depth distribution\n",
    "# DP\t[2]id\t[3]bin\t[4]number of genotypes\t[5]fraction of genotypes (%)\t[6]number of sites\t[7]fraction of sites (%)"
   ]
  },
  {
   "cell_type": "markdown",
   "id": "cd13c0e7",
   "metadata": {},
   "source": [
    "The stats for only reference genome sequence is C in the chromosome_5.stats file"
   ]
  },
  {
   "cell_type": "code",
   "execution_count": null,
   "id": "96deee56",
   "metadata": {},
   "outputs": [],
   "source": [
    "# This file was produced by bcftools stats (1.3.1+htslib-1.3.1) and can be plotted using plot-vcfstats.\n",
    "# The command line was:\tbcftools stats  /cluster/home/jiaychen/VCF/snakie/REF_C.vcf.gz\n",
    "#\n",
    "# Definition of sets:\n",
    "# ID\t[2]id\t[3]tab-separated file names\n",
    "ID\t0\t/cluster/home/jiaychen/VCF/snakie/REF_C.vcf.gz\n",
    "# SN, Summary numbers:\n",
    "# SN\t[2]id\t[3]key\t[4]value\n",
    "SN\t0\tnumber of samples:\t1\n",
    "SN\t0\tnumber of records:\t336650\n",
    "SN\t0\tnumber of no-ALTs:\t0\n",
    "SN\t0\tnumber of SNPs:\t336650\n",
    "SN\t0\tnumber of MNPs:\t0\n",
    "SN\t0\tnumber of indels:\t0\n",
    "SN\t0\tnumber of others:\t0\n",
    "SN\t0\tnumber of multiallelic sites:\t0\n",
    "SN\t0\tnumber of multiallelic SNP sites:\t0\n",
    "# TSTV, transitions/transversions:\n",
    "# TSTV\t[2]id\t[3]ts\t[4]tv\t[5]ts/tv\t[6]ts (1st ALT)\t[7]tv (1st ALT)[8]ts/tv (1st ALT)\n",
    "TSTV\t0\t238707\t97943\t2.44\t238707\t97943\t2.44\n",
    "# SiS, Singleton stats:\n",
    "# SiS\t[2]id\t[3]allele count\t[4]number of SNPs\t[5]number of transitions[6]number of transversions\t[7]number of indels\t[8]repeat-consistent\t[9]repeat-inconsistent\t[10]not applicable\n",
    "SiS\t0\t1\t41989\t29162\t12827\t0\t0\t0\t0\n",
    "# AF, Stats by non-reference allele frequency:\n",
    "# AF\t[2]id\t[3]allele frequency\t[4]number of SNPs\t[5]number of transitions\t[6]number of transversions\t[7]number of indels\t[8]repeat-consistent\t[9]repeat-inconsistent\t[10]not applicable\n",
    "AF\t0\t0.000000\t303788\t216473\t87315\t0\t0\t0\t0\n",
    "AF\t0\t99.000000\t32862\t22234\t10628\t0\t0\t0\t0\n",
    "# QUAL, Stats by quality:\n",
    "# QUAL\t[2]id\t[3]Quality\t[4]number of SNPs\t[5]number of transitions (1st ALT)\t[6]number of transversions (1st ALT)\t[7]number of indels\n",
    "QUAL\t0\t998\t336650\t238707\t97943\t0\n",
    "# IDD, InDel distribution:\n",
    "# IDD\t[2]id\t[3]length (deletions negative)\t[4]count\n",
    "# ST, Substitution types:\n",
    "# ST\t[2]id\t[3]type\t[4]count\n",
    "ST\t0\tA>C\t0\n",
    "ST\t0\tA>G\t0\n",
    "ST\t0\tA>T\t0\n",
    "ST\t0\tC>A\t57486\n",
    "ST\t0\tC>G\t40457\n",
    "ST\t0\tC>T\t238707\n",
    "ST\t0\tG>A\t0\n",
    "ST\t0\tG>C\t0\n",
    "ST\t0\tG>T\t0\n",
    "ST\t0\tT>A\t0\n",
    "ST\t0\tT>C\t0\n",
    "ST\t0\tT>G\t0\n",
    "# DP, Depth distribution\n",
    "# DP\t[2]id\t[3]bin\t[4]number of genotypes\t[5]fraction of genotypes (%)\t[6]number of sites\t[7]fraction of sites (%)"
   ]
  },
  {
   "cell_type": "markdown",
   "id": "6eb68a73",
   "metadata": {},
   "source": [
    "\n",
    "\n",
    "\n",
    "### Note: the key things to inspect would be number of records, number of SNPs, TsTv (transitions/transversions), and ST (Substitution types)\n",
    "\n",
    "number of records and number of SNPs are usually consisitent as the VCF files only record the differences of single nucleotide sequence compared to reference genome. \n",
    "\n",
    "TsTv: \n",
    "    - Transitions are interchanges of two-ring purines (A <-> G), or of one-ring pyrimidines (C <-> T), therefore it involve bases of similar shape. \n",
    "    - Transversions are interchanges of purine for pyrimidine bases, which therefore involve exchange of one-ring & two-ring structures.\n",
    "    - Usually Ts is more common than Tv as it is much easier to happen with similar structure. (the ratio of Ts/Tv is usually around 2.3-2.4 based on the example)\n",
    "    - The Ts/Tv ratio could be an indication of the data retreived as some program might have a ratio less than one --> could be a poor sequenced data!\n",
    "\n",
    "ST: \n",
    "    - The substitution types provide specific information of the substitution of purines and pyrimidines as well as the number of the incidence.\n",
    "    - Generally C--> T and G--> A is the highest almost among all examples following up A--> G and T-->C\n",
    "    - order would be CT > GA > AG > TC\n",
    "    - One potential explanation is that cytosine is vulnerable to deamination, cytosines in CpG dinucleotides are often methylated, and deamination of 5-methylcytosine (5mC) produces thymidine which result in high transition of C-->T.\n",
    "\n"
   ]
  },
  {
   "cell_type": "markdown",
   "id": "a8019b2b",
   "metadata": {},
   "source": [
    "## Paper about low coverage sequencing followed by imputation"
   ]
  },
  {
   "cell_type": "markdown",
   "id": "487a4173",
   "metadata": {},
   "source": [
    "### General findings\n",
    "\n",
    "Imputation performance is essential for the effectiveness of this approach. \n",
    "    - All the approach except Reveel performed well in most cases with an imputation accuracy over 0.9\n",
    "    - GLIMPSE, QUILT, and STITCH performed better \n",
    "    - When no reference panel available, STITCH followed by Beagle would be ideal.\n",
    "    - When reference panel are available, QUILT would be the best choice.\n",
    "    "
   ]
  },
  {
   "cell_type": "markdown",
   "id": "ebc12c62",
   "metadata": {},
   "source": [
    "\n",
    "### Background information\n",
    "\n",
    "    - Whole genome sequencing (WGS) can provide complete variant information of the whole genome.\n",
    "    - High-coverage sequencing (HCS) of large cohorts is too expensive fo larg-scale genomic analysis especially for livestock.\n",
    "    - Alternative would be perform low-coverage sequencing (LCS) at 1x or less then impute the LCS data to the high coverage WGS data.\n",
    "    \n",
    "    "
   ]
  },
  {
   "cell_type": "markdown",
   "id": "e27c21f0",
   "metadata": {},
   "source": [
    "### Methods and results\n",
    "\n",
    "   #### DNA sequencing\n",
    "    - DNA from blood is extracted and isolated.\n",
    "    - DNA quality evaluated.\n",
    "    - DNA templates shearded ultrasonically to 150 bp fragments.\n",
    "    - DNA fragments are sequenced at depth 1.49x and quality controlled.\n",
    "    - WGS data retreived from NCBI Sequence Read Archive (SRA) database.\n",
    "    \n",
    "    \n",
    "   #### Imputation\n",
    "    - Haplotype panels obtained from 1000 Bull Genome project Run 8\n",
    "    - SNITCH is also used without the panels.\n",
    "    - Accuracy is evlauted using r^2 and imputation quality score.\n",
    "    - The WGS data is fragmented into different sequence depth\n",
    "    "
   ]
  },
  {
   "cell_type": "markdown",
   "id": "71651a9a",
   "metadata": {},
   "source": [
    "WGS sequences (around 16x) are used to produce some fragments of 1x. 0.5x, ... ,0.1x and the short sequences based on the haplotype panels are generated with programming methods (QUILT, STITCH, GLIMPSE, etc.) and then compared to the fragments from WGS data to see the accuracy.\n"
   ]
  },
  {
   "cell_type": "markdown",
   "id": "51eda3b5",
   "metadata": {},
   "source": []
  },
  {
   "cell_type": "markdown",
   "id": "351575ab",
   "metadata": {},
   "source": [
    "## Project start"
   ]
  },
  {
   "cell_type": "markdown",
   "id": "c08657a4",
   "metadata": {},
   "source": [
    "To begin with, vcf files are already retreived from 24 individuals and are fragmented into 2x and 0.5x sequencing depth. "
   ]
  },
  {
   "cell_type": "markdown",
   "id": "0043fc6a",
   "metadata": {},
   "source": [
    "Submit the jobs for each of the directory with 0.5x and 2x data"
   ]
  },
  {
   "cell_type": "code",
   "execution_count": null,
   "id": "80893e44",
   "metadata": {},
   "outputs": [],
   "source": [
    "bsub \"bcftools isec -c none -p result_BSW --threads 2 -O z /cluster/home/jiaychen/imputed_VCFs/BSW_panel/0_5x/all_autosomes.vcf.gz /cluster/home/jiaychen/imputed_VCFs/BSW_panel/2x/all_autosomes.vcf.gz\"\n",
    "\n",
    "bsub \"bcftools isec -c none -p result_multi --threads 2 -O z /cluster/home/jiaychen/imputed_VCFs/multi_panel_25_BSW/0_5x/all_autosomes.vcf.gz /cluster/home/jiaychen/imputed_VCFs/multi_panel_25_BSW/2x/all_autosomes.vcf.gz\"\n",
    "\n",
    "bsub \"bcftools isec -c none -p result_non_BSW --threads 2 -O z /cluster/home/jiaychen/imputed_VCFs/non_BSW_panel/0_5x/all_autosomes.vcf.gz /cluster/home/jiaychen/imputed_VCFs/non_BSW_panel/2x/all_autosomes.vcf.gz\"\n",
    "\n",
    "\n",
    "\n"
   ]
  },
  {
   "cell_type": "markdown",
   "id": "e006dc16",
   "metadata": {},
   "source": [
    "Submit jobs for different directory with same sequencing depth, for instance the 0.5x depth data for both BSW and multi panel:"
   ]
  },
  {
   "cell_type": "code",
   "execution_count": null,
   "id": "9b433c0d",
   "metadata": {},
   "outputs": [],
   "source": [
    "\n",
    "bsub \"bcftools isec -c none -p BSW_multi --threads 2 -O z /cluster/home/jiaychen/imputed_VCFs/BSW_panel/0_5x/all_autosomes.vcf.gz /cluster/home/jiaychen/imputed_VCFs/multi_panel_25_BSW/0.5x/all_autosomes.vcf.gz\"\n",
    "\n"
   ]
  },
  {
   "cell_type": "markdown",
   "id": "24472069",
   "metadata": {},
   "source": [
    "In bcftools, isec -c or --collapse allow us to look for identical records in different vcf files, for instance:"
   ]
  },
  {
   "cell_type": "code",
   "execution_count": null,
   "id": "653cfefc",
   "metadata": {},
   "outputs": [],
   "source": [
    "-c all # all records are compatible, regardless of whether the ALT alleles match or not"
   ]
  },
  {
   "cell_type": "code",
   "execution_count": null,
   "id": "84b65d20",
   "metadata": {},
   "outputs": [],
   "source": [
    "-c none #only records with identical REF and ALT alleles are compatible"
   ]
  },
  {
   "cell_type": "markdown",
   "id": "8ef78a99",
   "metadata": {},
   "source": [
    "However, consideriing we have 2 datasets for each of the three categories, we need to also compare between datasets using both none and all commands that leads to a total of 2(3+2*3)=18 jobs. Instead of submitting all jobs, we could create a Snakefile to run snakemake to help us better conduct the jobs."
   ]
  },
  {
   "cell_type": "markdown",
   "id": "a3728c07",
   "metadata": {},
   "source": [
    "\n",
    "\n",
    "### Create snakemake codes using wildcards"
   ]
  },
  {
   "cell_type": "markdown",
   "id": "a85e4c68",
   "metadata": {},
   "source": [
    "#### full code"
   ]
  },
  {
   "cell_type": "code",
   "execution_count": null,
   "id": "a9ea3bbd",
   "metadata": {},
   "outputs": [],
   "source": [
    "\n",
    "# setting variables\n",
    "\n",
    "vcfs_origin = '/cluster/work/pausch/audald/jade/imputed_VCFs/'\n",
    "vcfs_end = '/cluster/work/pausch/audald/jade/imputed_VCFs/results/'\n",
    "numbers = ['0000','0001', '0002', '0003']\n",
    "panels = ['BSW_panel', 'non_BSW_panel', 'multi_panel_25_BSW']\n",
    "modes = ['all', 'none']\n",
    "covs = ['Two', 'Half']\n",
    "\n",
    "wildcard_constraints:\n",
    "    cov = r'Two|Half',\n",
    "    panel = r'BSW_panel|non_BSW_panel|multi_panel_25_BSW'\n",
    "\n",
    "rule all:\n",
    "    input:\n",
    "        stats_input = expand(vcfs_origin + \"{panel}/{cov}/all_autosomes.stats\", panel = panels, cov = covs),\n",
    "        stats_isec = expand(vcfs_end + \"{panel}/{mode}/{isec}.stats\", panel = panels, mode = modes, isec =[f'{i:04}' for i in range(4)]),\n",
    "        stats_MB = expand(vcfs_end + \"multi_BSW/{cov}/{mode}/{isec}.stats\", cov = covs, mode = modes, isec =[f'{i:04}' for i in range(4)])\n",
    "\n",
    "\n",
    "rule index_stats_input:\n",
    "    input:\n",
    "        vcf = vcfs_origin + \"{panel}/{cov}/all_autosomes.vcf.gz\"\n",
    "    output:\n",
    "        stats = vcfs_origin + \"{panel}/{cov}/all_autosomes.stats\"\n",
    "    resources:\n",
    "            mem_mb = 500,\n",
    "            walltime = '00:20'\n",
    "    shell:\n",
    "        '''\n",
    "            bcftools stats {input.vcf} > {output.stats}\n",
    "        '''\n",
    "\n",
    "\n",
    "rule compare_depth_panels:\n",
    "    output:\n",
    "        isecs = (vcfs_end + f\"{{panel}}/{{mode}}/{ISEC:04}.vcf.gz\" for ISEC in range(4))\n",
    "    params:\n",
    "        vcf1 = vcfs_origin + \"{panel}/Half/all_autosomes.vcf.gz\",\n",
    "        vcf2 = vcfs_origin + \"{panel}/Two/all_autosomes.vcf.gz\",\n",
    "        isec = \"isec -c\",\n",
    "        fol = \"-p\",\n",
    "        comp_out = \"--threads -2 -O z\"\n",
    "    threads: 4\n",
    "    resources:\n",
    "            mem_mb = 1500,\n",
    "            walltime = '00:30'\n",
    "    shell:\n",
    "        '''\n",
    "        bcftools {params.isec} {wildcards.mode} {params.fol} results/{wildcards.panel}/{wildcards.mode} {params.comp_out} {params.vcf1} {params.vcf2}\n",
    "        '''\n",
    "\n",
    "rule stats1:\n",
    "    input:\n",
    "        vcf1 = vcfs_end + \"{panel}/{mode}/{isec}.vcf.gz\"\n",
    "    output:\n",
    "        stats1 = vcfs_end + \"{panel}/{mode}/{isec}.stats\"\n",
    "    resources:\n",
    "        mem_mb = 500,\n",
    "        walltime = '30'\n",
    "    shell:\n",
    "        '''\n",
    "        bcftools stats {input.vcf1} > {output.stats1} \\n \\\n",
    "        '''\n",
    "\n",
    "rule compare_across_panels:\n",
    "    output:\n",
    "        isecs_1 = (vcfs_end + f\"BSW_non_BSW/{{cov}}/{{mode}}/{ISEC:04}.vcf.gz\" for ISEC in range(4)),\n",
    "        isecs_2 = (vcfs_end + f\"non_BSW_multi/{{cov}}/{{mode}}/{ISEC:04}.vcf.gz\" for ISEC in range(4)),\n",
    "        isecs_3 = (vcfs_end + f\"multi_BSW/{{cov}}/{{mode}}/{ISEC:04}.vcf.gz\" for ISEC in range(4))\n",
    "    params:\n",
    "        vcf1 = vcfs_origin + \"BSW_panel/{cov}/all_autosomes.vcf.gz\",\n",
    "        vcf2 = vcfs_origin + \"non_BSW_panel/{cov}/all_autosomes.vcf.gz\",\n",
    "        vcf3 = vcfs_origin + \"multi_panel_25_BSW/{cov}/all_autosomes.vcf.gz\",\n",
    "        isec = \"isec -c\",\n",
    "        fol = \"-p\",\n",
    "        comp_out = \"--threads -2 -O z\"\n",
    "    threads: 4\n",
    "    resources:\n",
    "            mem_mb = 1500,\n",
    "            walltime = '00:30'\n",
    "    shell:\n",
    "        '''\n",
    "        bcftools {params.isec} {wildcards.mode} {params.fol} results/BSW_non_BSW/{wildcards.cov}/{wildcards.mode} {params.comp_out} {params.vcf1} {params.vcf2} \\n \\\n",
    "        bcftools {params.isec} {wildcards.mode} {params.fol} results/non_BSW_multi/{wildcards.cov}/{wildcards.mode} {params.comp_out} {params.vcf2} {params.vcf3} \\n \\\n",
    "        bcftools {params.isec} {wildcards.mode} {params.fol} results/multi_BSW/{wildcards.cov}/{wildcards.mode} {params.comp_out} {params.vcf3} {params.vcf1}\n",
    "        '''\n",
    "\n",
    "rule stats2:\n",
    "    input:\n",
    "        vcf2 = vcfs_end + \"BSW_non_BSW/{cov}/{mode}/{isec}.vcf.gz\",\n",
    "        vcf3 = vcfs_end + \"non_BSW_multi/{cov}/{mode}/{isec}.vcf.gz\",\n",
    "        vcf4 = vcfs_end + \"multi_BSW/{cov}/{mode}/{isec}.vcf.gz\"\n",
    "    output:\n",
    "        stats2 = vcfs_end + \"BSW_non_BSW/{cov}/{mode}/{isec}.stats\",\n",
    "        stats3 = vcfs_end + \"non_BSW_multi/{cov}/{mode}/{isec}.stats\",\n",
    "        stats4 = vcfs_end + \"multi_BSW/{cov}/{mode}/{isec}.stats\"\n",
    "    resources:\n",
    "        mem_mb = 500,\n",
    "        walltime = '30'\n",
    "    shell:\n",
    "        '''\n",
    "        bcftools stats {input.vcf2} > {output.stats2} \\n \\\n",
    "        bcftools stats {input.vcf3} > {output.stats3} \\n \\\n",
    "        bcftools stats {input.vcf4} > {output.stats4}\n",
    "        '''"
   ]
  },
  {
   "cell_type": "markdown",
   "id": "cbca5a89",
   "metadata": {},
   "source": [
    "#### wildcard in our case"
   ]
  },
  {
   "cell_type": "markdown",
   "id": "b011397c",
   "metadata": {},
   "source": [
    "we first specify the wildcard to be the coverage (Two; Half), the panels (BSW_panel; multi_panel_25_BSW; non_BSW_panel) and the modes (all or none)\n",
    "\n",
    "Then when we specific the files in rules, we can just use {panel}/{cov}/{mode} to ask snakemake to go through every single file amd conduct the rules."
   ]
  },
  {
   "cell_type": "markdown",
   "id": "0d97edc0",
   "metadata": {},
   "source": [
    "considering that the results of none and all is the same, which means the vcf files we investigated all have the same records in the first four columns, therefore, we introduced hap.py to investigate the haplotype differences."
   ]
  },
  {
   "cell_type": "code",
   "execution_count": null,
   "id": "42d1e819",
   "metadata": {},
   "outputs": [],
   "source": []
  }
 ],
 "metadata": {
  "kernelspec": {
   "display_name": "Python 3 (ipykernel)",
   "language": "python",
   "name": "python3"
  },
  "language_info": {
   "codemirror_mode": {
    "name": "ipython",
    "version": 3
   },
   "file_extension": ".py",
   "mimetype": "text/x-python",
   "name": "python",
   "nbconvert_exporter": "python",
   "pygments_lexer": "ipython3",
   "version": "3.7.4"
  }
 },
 "nbformat": 4,
 "nbformat_minor": 5
}
